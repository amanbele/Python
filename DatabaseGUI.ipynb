{
  "nbformat": 4,
  "nbformat_minor": 0,
  "metadata": {
    "colab": {
      "name": "DatabaseGUI.ipynb",
      "provenance": []
    },
    "kernelspec": {
      "name": "python3",
      "display_name": "Python 3"
    },
    "language_info": {
      "name": "python"
    }
  },
  "cells": [
    {
      "cell_type": "markdown",
      "source": [
        "# Python based Database Query Program with GUI\n"
      ],
      "metadata": {
        "id": "Nu4iHWrP28Bb"
      }
    },
    {
      "cell_type": "markdown",
      "source": [
        "We need additional packages for this program to work\n",
        "\n",
        "To install them, press \n",
        "\n",
        "![Win+R](https://github.com/amanbele/images/raw/main/download.png/)\n",
        "\n",
        "and type `CMD` and hit `Ok`\n",
        "\n",
        "Now type `py -m pip install MySQLdb` and hit ENTER.\n",
        "\n",
        "This will install MySQLdb connector package."
      ],
      "metadata": {
        "id": "pegtIidI3LXO"
      }
    },
    {
      "cell_type": "markdown",
      "source": [
        "\n",
        "\n",
        "---\n",
        "\n"
      ],
      "metadata": {
        "id": "WBRT9CpK5zk5"
      }
    },
    {
      "cell_type": "markdown",
      "source": [
        "Now import all the necessary modules"
      ],
      "metadata": {
        "id": "9CL-kw-j5uqT"
      }
    },
    {
      "cell_type": "code",
      "source": [
        "import MySQLdb  # this will import the module used for connecting with MySQLdb\n",
        "from tkinter import *  # module used for gui"
      ],
      "metadata": {
        "id": "gTYFDD825yGW"
      },
      "execution_count": null,
      "outputs": []
    },
    {
      "cell_type": "markdown",
      "source": [
        "Define the root window"
      ],
      "metadata": {
        "id": "_pTA9Syl59KW"
      }
    },
    {
      "cell_type": "code",
      "source": [
        "root = Tk()  # this will define the root window where all the widgets will be located"
      ],
      "metadata": {
        "id": "hJ--5dpA6B2_"
      },
      "execution_count": null,
      "outputs": []
    },
    {
      "cell_type": "markdown",
      "source": [
        "Function to take the eno and print the row"
      ],
      "metadata": {
        "id": "zuzYdkvc6IKu"
      }
    },
    {
      "cell_type": "code",
      "source": [
        "def retrieve_rows(eno):\n",
        "\n",
        "\t# connect to MySQLdb\n",
        "\tconn = MySQLdb.connect(host = 'localhost',\n",
        "\t\tdatabase = 'world',\n",
        "\t\tuser = 'root',\n",
        "\t\tpassword = 'root')\n",
        "\n",
        "\t# prepare a cursor obj\n",
        "\tcursor = conn.cursor()\n",
        "\n",
        "\t# prepare a SQL query string to retrieve a row\n",
        "\tstr = \"select * from emptab where eno = '%d'\"\n",
        "\n",
        "\t# define the args\n",
        "\targs = (eno)\n",
        "\n",
        "\t# execute the SQL query using execute() method\n",
        "\tcursor.execute(str % args)\n",
        "\n",
        "\t# get only one row\n",
        "\trow = cursor.fetchone()\n",
        "\t\n",
        "\t# if row exists display it using a lbl\n",
        "\tif row is not None:\n",
        "\t\tlbl = Label(text = row,\n",
        "\t\t font = ('Arial', 14)).place(x = 50, \n",
        "\t\t y = 200)\n",
        "\n",
        "\t# close con\n",
        "\tcursor.close()\n",
        "\tconn.close()\n"
      ],
      "metadata": {
        "id": "sh51Ml6T6OpM"
      },
      "execution_count": null,
      "outputs": []
    },
    {
      "cell_type": "markdown",
      "source": [
        "Function that takes input from the entry widget"
      ],
      "metadata": {
        "id": "HhmaW6tL6Y6C"
      }
    },
    {
      "cell_type": "code",
      "source": [
        "def display(self):\n",
        "\n",
        "\t# retrieve the value from the entry widget\n",
        "\tstr = el.get()\n",
        "\n",
        "\t# display the values using label\n",
        "\tlbl = Label(text = 'You entered: '+str, font = ('Arial', 14)).place(x = 50, y = 150)\n",
        "\n",
        " \t# call the func that retrieves the row\n",
        "\tretrieve_rows(int(str))"
      ],
      "metadata": {
        "id": "goNqKNEe6e1H"
      },
      "execution_count": null,
      "outputs": []
    },
    {
      "cell_type": "markdown",
      "source": [
        "Create a frame as a child to root window"
      ],
      "metadata": {
        "id": "RiD7rWkt6kgD"
      }
    },
    {
      "cell_type": "code",
      "source": [
        "f = Frame(root, \n",
        "\theight = 350, \n",
        "\twidth = 600)"
      ],
      "metadata": {
        "id": "4_5icq126pZH"
      },
      "execution_count": null,
      "outputs": []
    },
    {
      "cell_type": "markdown",
      "source": [
        "Make it so frame dosen't shrink"
      ],
      "metadata": {
        "id": "HnUDEu1D6rtW"
      }
    },
    {
      "cell_type": "code",
      "source": [
        "f.propagate(0)"
      ],
      "metadata": {
        "id": "UYtSkS956xNs"
      },
      "execution_count": null,
      "outputs": []
    },
    {
      "cell_type": "markdown",
      "source": [
        "Attach the frame to root window"
      ],
      "metadata": {
        "id": "BXRmJFiP60uX"
      }
    },
    {
      "cell_type": "code",
      "source": [
        "f.pack()"
      ],
      "metadata": {
        "id": "KhdfyWtL65Uy"
      },
      "execution_count": null,
      "outputs": []
    },
    {
      "cell_type": "markdown",
      "source": [
        "Label to show the result"
      ],
      "metadata": {
        "id": "yNve2VYb68An"
      }
    },
    {
      "cell_type": "code",
      "source": [
        "lab = Label(text = 'Enter employee number: ',\n",
        "\tfont = ('Arial', 14))"
      ],
      "metadata": {
        "id": "O1Km08Qy7B-J"
      },
      "execution_count": null,
      "outputs": []
    },
    {
      "cell_type": "markdown",
      "source": [
        "Creating an entry widget for accepting employee number."
      ],
      "metadata": {
        "id": "OCzI8bxE7EX9"
      }
    },
    {
      "cell_type": "code",
      "source": [
        "el = Entry(f, \n",
        "\twidth = 15,\n",
        "\tfg = 'blue',\n",
        "\tbg = 'yellow',\n",
        "\tfont = ('Arial', 14))"
      ],
      "metadata": {
        "id": "f1C6pBTa7OFJ"
      },
      "execution_count": null,
      "outputs": []
    },
    {
      "cell_type": "markdown",
      "source": [
        "When the user pressed ENTER call display method"
      ],
      "metadata": {
        "id": "8YExxujw7R_f"
      }
    },
    {
      "cell_type": "code",
      "source": [
        "el.bind('<Return>', display)"
      ],
      "metadata": {
        "id": "l_ssRtE37aIG"
      },
      "execution_count": null,
      "outputs": []
    },
    {
      "cell_type": "markdown",
      "source": [
        "Place the widgets in frame"
      ],
      "metadata": {
        "id": "lYElShTt7lEp"
      }
    },
    {
      "cell_type": "code",
      "source": [
        "lab.place(x = 50,\n",
        "\ty = 100)\n",
        "\n",
        "el.place(x = 300,\n",
        "\ty = 100)"
      ],
      "metadata": {
        "id": "sGaUdRJR7qTi"
      },
      "execution_count": null,
      "outputs": []
    },
    {
      "cell_type": "markdown",
      "source": [
        "Handle the events"
      ],
      "metadata": {
        "id": "0upEkU4W7t5N"
      }
    },
    {
      "cell_type": "code",
      "source": [
        "root.mainloop()"
      ],
      "metadata": {
        "id": "nQdgfhax7vr8"
      },
      "execution_count": null,
      "outputs": []
    },
    {
      "cell_type": "markdown",
      "source": [
        "Full Code Combined."
      ],
      "metadata": {
        "id": "jsjvf9ll7xDW"
      }
    },
    {
      "cell_type": "code",
      "source": [
        "# A GUI Application to retrieve rows from a table in mysqldb\n",
        "import MySQLdb\n",
        "from tkinter import *\n",
        "\n",
        "# creating a root window\n",
        "root = Tk()\n",
        "\n",
        "# a function that takes eno and displays the row\n",
        "def retrieve_rows(eno):\n",
        "\n",
        "\t# connect to MySQLdb\n",
        "\tconn = MySQLdb.connect(host = 'localhost',\n",
        "\t\tdatabase = 'world',\n",
        "\t\tuser = 'root',\n",
        "\t\tpassword = 'root')\n",
        "\n",
        "\t# prepare a cursor obj\n",
        "\tcursor = conn.cursor()\n",
        "\n",
        "\t# prepare a SQL query string to retrieve a row\n",
        "\tstr = \"select * from emptab where eno = '%d'\"\n",
        "\n",
        "\t# define the args\n",
        "\targs = (eno)\n",
        "\n",
        "\t# execute the SQL query using execute() method\n",
        "\tcursor.execute(str % args)\n",
        "\n",
        "\t# get only one row\n",
        "\trow = cursor.fetchone()\n",
        "\t\n",
        "\t# if row exists display it using a lbl\n",
        "\tif row is not None:\n",
        "\t\tlbl = Label(text = row,\n",
        "\t\t font = ('Arial', 14)).place(x = 50, \n",
        "\t\t y = 200)\n",
        "\n",
        "\t# close con\n",
        "\tcursor.close()\n",
        "\tconn.close()\n",
        "\n",
        "# a func that takes input from entry widget\n",
        "def display(self):\n",
        "\n",
        "\t# retrieve the value from the entry widget\n",
        "\tstr = el.get()\n",
        "\n",
        "\t# display the values using label\n",
        "\tlbl = Label(text = 'You entered: '+str, font = ('Arial', 14)).place(x = 50, y = 150)\n",
        "\n",
        " \t# call the func that retrieves the row\n",
        "\tretrieve_rows(int(str))\n",
        "\n",
        "# create a frame as child to root window\n",
        "f = Frame(root, \n",
        "\theight = 350, \n",
        "\twidth = 600)\n",
        "\n",
        "# let the frame to not shrink\n",
        "f.propagate(0)\n",
        "\n",
        "# attach the frame to root window\n",
        "f.pack()\n",
        "\n",
        "# label\n",
        "lab = Label(text = 'Enter employee number: ',\n",
        "\tfont = ('Arial', 14))\n",
        "\n",
        "# create a entry widget for accepting employee no\n",
        "el = Entry(f, \n",
        "\twidth = 15,\n",
        "\tfg = 'blue',\n",
        "\tbg = 'yellow',\n",
        "\tfont = ('Arial', 14))\n",
        "\n",
        "# when user presses enter call display method\n",
        "el.bind('<Return>', display)\n",
        "\n",
        "# place entry and label widgets in frame\n",
        "lab.place(x = 50,\n",
        "\ty = 100)\n",
        "\n",
        "el.place(x = 300,\n",
        "\ty = 100)\n",
        "\n",
        "# handle the events\n",
        "root.mainloop()\n"
      ],
      "metadata": {
        "id": "leuLXHuP71XR"
      },
      "execution_count": null,
      "outputs": []
    },
    {
      "cell_type": "markdown",
      "source": [
        "This program returns the output as: \n",
        "![Image](https://github.com/amanbele/images/raw/main/program.png)"
      ],
      "metadata": {
        "id": "3M1dQRnH74qD"
      }
    }
  ]
}