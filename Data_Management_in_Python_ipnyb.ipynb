{
  "nbformat": 4,
  "nbformat_minor": 0,
  "metadata": {
    "colab": {
      "name": "Data Management in Python.ipnyb",
      "provenance": [],
      "collapsed_sections": []
    },
    "kernelspec": {
      "name": "python3",
      "display_name": "Python 3"
    },
    "language_info": {
      "name": "python"
    }
  },
  "cells": [
    {
      "cell_type": "markdown",
      "source": [
        "# Data Management in Python \n",
        "by Aman Bele"
      ],
      "metadata": {
        "id": "b9uZuej4Q7vD"
      }
    },
    {
      "cell_type": "markdown",
      "source": [
        "### Data Management plays a vital role in Python Programming.\n",
        "  Here I am going to show you how to setup a basic database and work with it."
      ],
      "metadata": {
        "id": "2mB3OwvxTG3o"
      }
    },
    {
      "cell_type": "markdown",
      "source": [
        "#### Here are the download links to all programs I'll be using in this article\n",
        "\n",
        "  [Python 3](https://www.python.org/downloads/) `Mandatory`\n",
        "\n",
        "  [MySQL Community Edition](https://dev.mysql.com/downloads/installer/)   `Mandatory`       \n",
        "\n",
        "  [Sublime Text](https://www.sublimetext.com/) `Optional`"
      ],
      "metadata": {
        "id": "1ee5sSIUTJ-4"
      }
    },
    {
      "cell_type": "markdown",
      "source": [
        "*this part is only useful if you are installing MySQL for the first time otherwise click this [link](#scrollTo=lV-1C4tv0gLt)**\n",
        "## Installing MySQL\n",
        "When you are at the download page, click on `mysql-installer-web-community`\n",
        ", else download `mysql-installer-community`\n",
        "\n",
        "After that click on one of the [executable](https://en.wikipedia.org/wiki/Executable) you have got.\n",
        "\n",
        "\n",
        "---\n",
        "\n",
        "\n",
        "![Install Page 1](https://github.com/amanbele/images/raw/main/installmysql3.png)\n",
        "\n",
        "Now when on this page, click `Full` option and hit Enter.\n",
        "\n",
        "---\n",
        "\n",
        "![Install Page 2](https://github.com/amanbele/images/raw/main/installmysql4.png)\n",
        "\n",
        "Here you will find some requirements to be fulfilled but, these aren't necessary. You can try to install them by clicking `Execute`\n",
        "\n",
        "But we will skip them for now. Click `Next` to continue \n",
        "\n",
        "---\n",
        "\n",
        "![Install Page 3](https://github.com/amanbele/images/raw/main/installmysql5.png)\n",
        "\n",
        "Here click `Yes`\n",
        "\n",
        "---\n",
        "\n",
        "![Install Page 4](https://github.com/amanbele/images/raw/main/installmysql6.png)\n",
        "\n",
        "Here click `Execute` to install the products mentioned in the list\n",
        "\n",
        "---\n",
        "\n",
        "![Install Page 5](https://github.com/amanbele/images/raw/main/installmysql7.png)\n",
        "\n",
        "After installing all the products click `Next`\n",
        "\n",
        "---\n",
        "\n",
        "![Install Page 6](https://github.com/amanbele/images/raw/main/installmysql8.png)\n",
        "\n",
        "Here the program will guide you through the configuration process for MySQL\n",
        "\n",
        "---\n",
        "\n",
        "![Install Page 7](https://github.com/amanbele/images/raw/main/installmysql9.png)\n",
        "\n",
        "Now click on Standalone MySQL Server option and click `Next`\n",
        "\n",
        "---\n",
        "\n",
        "![Install Page 8](https://github.com/amanbele/images/raw/main/installmysql10.png)\n",
        "\n",
        "Here leave everything at default and click `Next`\n",
        "\n",
        "---\n",
        "\n",
        "![Install Page 9](https://github.com/amanbele/images/raw/main/installmysql11.png)\n",
        "\n",
        "Use the option with (RECOMMENDED) label and click `Next`\n",
        "\n",
        "---\n",
        "\n",
        "![Install Page 10](https://github.com/amanbele/images/raw/main/installmysql12.png)\n",
        "\n",
        "Input your desired password here and click `Next`\n",
        "\n",
        "**NOTE**: Enter the password carefully and remmeber it as it is not easily changeable.\n",
        "\n",
        "---\n",
        "\n",
        "![Install Page 11](https://github.com/amanbele/images/raw/main/installmysql13.png)\n",
        "\n",
        "Leave everything as it is and click `Next`\n",
        "\n",
        "---\n",
        "\n",
        "![Install Page 12](https://github.com/amanbele/images/raw/main/installmysql14.png)\n",
        "\n",
        "Now click on `Execute`\n",
        "\n",
        "---\n",
        "\n",
        "![Install Page 13](https://github.com/amanbele/images/raw/main/installmysql15.png)\n",
        "\n",
        "Now click `Finish`\n",
        "\n",
        "---\n",
        "\n",
        "![Install Page 14](https://github.com/amanbele/images/raw/main/installmysql16.png)\n",
        "\n",
        "Here click on `Next`\n",
        "\n",
        "---\n",
        "\n",
        "![Install Page 15](https://github.com/amanbele/images/raw/main/installmysql17.png)\n",
        "\n",
        "Here click on `Finish`\n",
        "\n",
        "---\n",
        "\n",
        "![Install Page 16](https://github.com/amanbele/images/raw/main/installmysql18.png)\n",
        "\n",
        "Here we will make sure that our MySQL Server is running.\n",
        "Enter your password in the box and click `Check`\n",
        "If the connection is showed successful click `Next` \n",
        "\n",
        "\n",
        "Note:\n",
        "If connection failed click `Cancel`, uninstall all programs related to MySQL from your PC and rerun the setup. To remove programs, press\n",
        "`Win + R` keys on your keyboard and type `control panel` in the box and click\n",
        "`Ok`. This will take you to control panel. Now click `Programs and Features` and right click on the related programs you wish to remove and click `Uninstall`\n",
        "\n",
        "---\n",
        "\n",
        "![Install Page 17](https://github.com/amanbele/images/raw/main/installmysql19.png)\n",
        "\n",
        "Here click `Execute` and then `Finish`"
      ],
      "metadata": {
        "id": "p-ICfW4bYXLv"
      }
    },
    {
      "cell_type": "markdown",
      "source": [
        "### Now we have successfully installed MySQL Server\n",
        "\n",
        "But we need to make sure everything works fine.\n",
        "\n"
      ],
      "metadata": {
        "id": "Cjoo0RWWydT8"
      }
    },
    {
      "cell_type": "markdown",
      "source": [
        "To do so,\n",
        "\n",
        "Navigate to the search icon on your taskbar and search `MySQL`\n",
        "\n",
        "![search](https://github.com/amanbele/images/raw/main/search.png)\n",
        "\n",
        "Here you should get this option. Click `Open`\n",
        "\n",
        "Now you might be asked to enter your password. Enter it and hit Enter.\n",
        "\n",
        "Now type `show databases;`\n",
        "\n",
        "and it should show you the available databases on your pc."
      ],
      "metadata": {
        "id": "8gb5Xyp6y6ah"
      }
    },
    {
      "cell_type": "markdown",
      "source": [
        "Congrats 🎉\n",
        "\n",
        "We have succesfully installed MySQL Database!\n"
      ],
      "metadata": {
        "id": "DYahgBjB0QVg"
      }
    },
    {
      "cell_type": "markdown",
      "source": [
        "# Program\n",
        " I've made a simple gui based program that will query an entry form an existing database and print out the results.\n",
        "\n",
        "I'll explain how it works in a seperate file linked below.\n",
        "\n",
        "[Link](https://colab.research.google.com/drive/1sf1XZ5oF7fUy8UkHKPnVlHDbiTsvAfzd?usp=sharing)"
      ],
      "metadata": {
        "id": "lV-1C4tv0gLt"
      }
    }
  ]
}